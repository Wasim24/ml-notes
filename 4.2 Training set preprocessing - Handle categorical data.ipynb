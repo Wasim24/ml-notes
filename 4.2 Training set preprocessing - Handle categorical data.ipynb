{
 "cells": [
  {
   "cell_type": "markdown",
   "metadata": {},
   "source": [
    "# Handling Categorical data"
   ]
  },
  {
   "cell_type": "code",
   "execution_count": 2,
   "metadata": {
    "collapsed": false
   },
   "outputs": [
    {
     "data": {
      "text/html": [
       "<div>\n",
       "<table border=\"1\" class=\"dataframe\">\n",
       "  <thead>\n",
       "    <tr style=\"text-align: right;\">\n",
       "      <th></th>\n",
       "      <th>color</th>\n",
       "      <th>size</th>\n",
       "      <th>price</th>\n",
       "      <th>class</th>\n",
       "    </tr>\n",
       "  </thead>\n",
       "  <tbody>\n",
       "    <tr>\n",
       "      <th>0</th>\n",
       "      <td>green</td>\n",
       "      <td>S</td>\n",
       "      <td>10.5</td>\n",
       "      <td>class1</td>\n",
       "    </tr>\n",
       "    <tr>\n",
       "      <th>1</th>\n",
       "      <td>red</td>\n",
       "      <td>L</td>\n",
       "      <td>14.0</td>\n",
       "      <td>class2</td>\n",
       "    </tr>\n",
       "    <tr>\n",
       "      <th>2</th>\n",
       "      <td>orange</td>\n",
       "      <td>M</td>\n",
       "      <td>12.5</td>\n",
       "      <td>class3</td>\n",
       "    </tr>\n",
       "    <tr>\n",
       "      <th>3</th>\n",
       "      <td>yellow</td>\n",
       "      <td>XL</td>\n",
       "      <td>17.3</td>\n",
       "      <td>class2</td>\n",
       "    </tr>\n",
       "  </tbody>\n",
       "</table>\n",
       "</div>"
      ],
      "text/plain": [
       "    color size  price   class\n",
       "0   green    S   10.5  class1\n",
       "1     red    L   14.0  class2\n",
       "2  orange    M   12.5  class3\n",
       "3  yellow   XL   17.3  class2"
      ]
     },
     "execution_count": 2,
     "metadata": {},
     "output_type": "execute_result"
    }
   ],
   "source": [
    "import pandas as pd\n",
    "\n",
    "# color, size, price, classlabel\n",
    "df = pd.DataFrame([\n",
    "        ['green', 'S', 10.5, 'class1'],\n",
    "        ['red','L', 14, 'class2'],\n",
    "        ['orange', 'M', 12.5, 'class3'],\n",
    "        ['yellow','XL', 17.3, 'class2']])\n",
    "df.columns = ['color', 'size', 'price', 'class']\n",
    "df"
   ]
  },
  {
   "cell_type": "markdown",
   "metadata": {},
   "source": [
    "# If column labels are known and limited, then we can encode them as shown below (Map size column to numbers): "
   ]
  },
  {
   "cell_type": "code",
   "execution_count": 3,
   "metadata": {
    "collapsed": false
   },
   "outputs": [
    {
     "data": {
      "text/html": [
       "<div>\n",
       "<table border=\"1\" class=\"dataframe\">\n",
       "  <thead>\n",
       "    <tr style=\"text-align: right;\">\n",
       "      <th></th>\n",
       "      <th>color</th>\n",
       "      <th>size</th>\n",
       "      <th>price</th>\n",
       "      <th>class</th>\n",
       "    </tr>\n",
       "  </thead>\n",
       "  <tbody>\n",
       "    <tr>\n",
       "      <th>0</th>\n",
       "      <td>green</td>\n",
       "      <td>1</td>\n",
       "      <td>10.5</td>\n",
       "      <td>class1</td>\n",
       "    </tr>\n",
       "    <tr>\n",
       "      <th>1</th>\n",
       "      <td>red</td>\n",
       "      <td>3</td>\n",
       "      <td>14.0</td>\n",
       "      <td>class2</td>\n",
       "    </tr>\n",
       "    <tr>\n",
       "      <th>2</th>\n",
       "      <td>orange</td>\n",
       "      <td>2</td>\n",
       "      <td>12.5</td>\n",
       "      <td>class3</td>\n",
       "    </tr>\n",
       "    <tr>\n",
       "      <th>3</th>\n",
       "      <td>yellow</td>\n",
       "      <td>4</td>\n",
       "      <td>17.3</td>\n",
       "      <td>class2</td>\n",
       "    </tr>\n",
       "  </tbody>\n",
       "</table>\n",
       "</div>"
      ],
      "text/plain": [
       "    color  size  price   class\n",
       "0   green     1   10.5  class1\n",
       "1     red     3   14.0  class2\n",
       "2  orange     2   12.5  class3\n",
       "3  yellow     4   17.3  class2"
      ]
     },
     "execution_count": 3,
     "metadata": {},
     "output_type": "execute_result"
    }
   ],
   "source": [
    "size_mapping = {\n",
    "    'S': 1,\n",
    "    'M': 2,\n",
    "    'L': 3,\n",
    "    'XL': 4\n",
    "}\n",
    "\n",
    "df['size'] = df['size'].map(size_mapping)\n",
    "df"
   ]
  },
  {
   "cell_type": "markdown",
   "metadata": {},
   "source": [
    "# Reverse mapping of size column back to its values"
   ]
  },
  {
   "cell_type": "code",
   "execution_count": 4,
   "metadata": {
    "collapsed": false
   },
   "outputs": [
    {
     "name": "stdout",
     "output_type": "stream",
     "text": [
      "Reverse of size mapping: {1: 'S', 2: 'M', 3: 'L', 4: 'XL'}\n"
     ]
    },
    {
     "data": {
      "text/html": [
       "<div>\n",
       "<table border=\"1\" class=\"dataframe\">\n",
       "  <thead>\n",
       "    <tr style=\"text-align: right;\">\n",
       "      <th></th>\n",
       "      <th>color</th>\n",
       "      <th>size</th>\n",
       "      <th>price</th>\n",
       "      <th>class</th>\n",
       "    </tr>\n",
       "  </thead>\n",
       "  <tbody>\n",
       "    <tr>\n",
       "      <th>0</th>\n",
       "      <td>green</td>\n",
       "      <td>S</td>\n",
       "      <td>10.5</td>\n",
       "      <td>class1</td>\n",
       "    </tr>\n",
       "    <tr>\n",
       "      <th>1</th>\n",
       "      <td>red</td>\n",
       "      <td>L</td>\n",
       "      <td>14.0</td>\n",
       "      <td>class2</td>\n",
       "    </tr>\n",
       "    <tr>\n",
       "      <th>2</th>\n",
       "      <td>orange</td>\n",
       "      <td>M</td>\n",
       "      <td>12.5</td>\n",
       "      <td>class3</td>\n",
       "    </tr>\n",
       "    <tr>\n",
       "      <th>3</th>\n",
       "      <td>yellow</td>\n",
       "      <td>XL</td>\n",
       "      <td>17.3</td>\n",
       "      <td>class2</td>\n",
       "    </tr>\n",
       "  </tbody>\n",
       "</table>\n",
       "</div>"
      ],
      "text/plain": [
       "    color size  price   class\n",
       "0   green    S   10.5  class1\n",
       "1     red    L   14.0  class2\n",
       "2  orange    M   12.5  class3\n",
       "3  yellow   XL   17.3  class2"
      ]
     },
     "execution_count": 4,
     "metadata": {},
     "output_type": "execute_result"
    }
   ],
   "source": [
    "# create inverse mapping of size\n",
    "inv_size_mapping = {v:k for k,v in size_mapping.items()}\n",
    "print \"Reverse of size mapping:\", inv_size_mapping\n",
    "\n",
    "# apply reverse size mapping to get back original df\n",
    "df['size'] = df['size'].map(inv_size_mapping)\n",
    "df"
   ]
  },
  {
   "cell_type": "markdown",
   "metadata": {},
   "source": [
    "# If we dont know how many labels are present in the column, then encode tham as shown below (class label is mapped):"
   ]
  },
  {
   "cell_type": "code",
   "execution_count": 5,
   "metadata": {
    "collapsed": false
   },
   "outputs": [
    {
     "name": "stdout",
     "output_type": "stream",
     "text": [
      "{'class2': 1, 'class3': 2, 'class1': 0}\n",
      "    color  size  price   class\n",
      "0   green     1   10.5  class1\n",
      "1     red     3   14.0  class2\n",
      "2  orange     2   12.5  class3\n",
      "3  yellow     4   17.3  class2\n"
     ]
    }
   ],
   "source": [
    "import numpy as np\n",
    "\n",
    "# iterate over unique class labels and assign numbers to them sequentially\n",
    "class_mapping = {label: idx for idx, label in enumerate(np.unique(df['class']))}\n",
    "print class_mapping\n",
    "\n",
    "# apply class_mapping on df\n",
    "df['size'] = df['size'].map(size_mapping)\n",
    "df['class'] = df['class'].map(class_mapping)\n",
    "df\n",
    "\n",
    "# reverse map class in df\n",
    "inv_class_mapping = {v: k for k,v in class_mapping.items()}\n",
    "df['class'] = df['class'].map(inv_class_mapping)\n",
    "print df"
   ]
  },
  {
   "cell_type": "markdown",
   "metadata": {},
   "source": [
    "# Using label encoder to encode labels"
   ]
  },
  {
   "cell_type": "code",
   "execution_count": 10,
   "metadata": {
    "collapsed": false
   },
   "outputs": [
    {
     "name": "stdout",
     "output_type": "stream",
     "text": [
      "\n",
      "\n",
      "class and color transformed df::::\n",
      "   color  size  price  class\n",
      "0      0     1   10.5      0\n",
      "1      2     3   14.0      1\n",
      "2      1     2   12.5      2\n",
      "3      3     4   17.3      1\n",
      "\n",
      "\n",
      "class reverse transformed df:\n",
      "   color  size  price   class\n",
      "0      0     1   10.5  class1\n",
      "1      2     3   14.0  class2\n",
      "2      1     2   12.5  class3\n",
      "3      3     4   17.3  class2\n"
     ]
    }
   ],
   "source": [
    "from sklearn.preprocessing import LabelEncoder\n",
    "\n",
    "# perform transformation on df1 (copy of df)\n",
    "df1 = df\n",
    "\n",
    "# transform class and color using labelencoder\n",
    "class_le = LabelEncoder()\n",
    "color_le = LabelEncoder() # have separate encoder for each column\n",
    "df1['class'] = class_le.fit_transform(df1['class'].values)\n",
    "df1['color'] = color_le.fit_transform(df1['color'].values)\n",
    "print \"\\n\\nclass and color transformed df::::\\n\", df1\n",
    "\n",
    "# reverse transofrm class using label encoder\n",
    "df1['class'] = class_le.inverse_transform(df1['class'])\n",
    "print \"\\n\\nclass reverse transformed df:\\n\", df1"
   ]
  },
  {
   "cell_type": "markdown",
   "metadata": {},
   "source": [
    "# what's the problem with above method to encode features?\n",
    "Although the color values don't come in any particular order, a learning algorithm will now assume that green is larger than blue, and red is larger than green. As this assumption is incorrect, we'll not get optimal results..Solution is:\n",
    "\n",
    "# One-hot Encoding\n",
    "Here, we would convert the color feature into three new features: blue, green, and red. Binary values can then be used to indicate the particular color of a sample; for example, a blue sample can be encoded as blue=1, green=0, red=0"
   ]
  },
  {
   "cell_type": "code",
   "execution_count": 11,
   "metadata": {
    "collapsed": false
   },
   "outputs": [
    {
     "name": "stdout",
     "output_type": "stream",
     "text": [
      "[[  1.    0.    0.    0.    1.   10.5   0. ]\n",
      " [  0.    0.    1.    0.    3.   14.    1. ]\n",
      " [  0.    1.    0.    0.    2.   12.5   2. ]\n",
      " [  0.    0.    0.    1.    4.   17.3   1. ]]\n",
      "[[  1.    0.    0.    0.    1.   10.5   0. ]\n",
      " [  0.    0.    1.    0.    3.   14.    1. ]\n",
      " [  0.    1.    0.    0.    2.   12.5   2. ]\n",
      " [  0.    0.    0.    1.    4.   17.3   1. ]]\n"
     ]
    }
   ],
   "source": [
    "from sklearn.preprocessing import OneHotEncoder\n",
    "\n",
    "# transform class label to numeric and perform one-hot-encoding on it\n",
    "df1['class'] = class_le.fit_transform(df1['class'].values)\n",
    "\n",
    "# generates sparse matrix. So, use toarray()\n",
    "sparse_ohe = OneHotEncoder(categorical_features=[0])\n",
    "X = sparse_ohe.fit_transform(df1).toarray()\n",
    "print X\n",
    "\n",
    "# generates dense matrix. So, no need to use toarray.\n",
    "dense_ohe = OneHotEncoder(categorical_features=[0],sparse=False)\n",
    "X1 = dense_ohe.fit_transform(df1)\n",
    "print X1\n"
   ]
  },
  {
   "cell_type": "markdown",
   "metadata": {},
   "source": [
    "# Note: OneHotEncoding can be done only on numeric or boolean columns. \n",
    "If we want to convert string columns into numeric values, use get_dummies() method as shown below. "
   ]
  },
  {
   "cell_type": "code",
   "execution_count": 98,
   "metadata": {
    "collapsed": false
   },
   "outputs": [
    {
     "data": {
      "text/html": [
       "<div>\n",
       "<table border=\"1\" class=\"dataframe\">\n",
       "  <thead>\n",
       "    <tr style=\"text-align: right;\">\n",
       "      <th></th>\n",
       "      <th>color</th>\n",
       "      <th>size</th>\n",
       "      <th>price</th>\n",
       "      <th>class</th>\n",
       "    </tr>\n",
       "  </thead>\n",
       "  <tbody>\n",
       "    <tr>\n",
       "      <th>0</th>\n",
       "      <td>0</td>\n",
       "      <td>1</td>\n",
       "      <td>10.5</td>\n",
       "      <td>0</td>\n",
       "    </tr>\n",
       "    <tr>\n",
       "      <th>1</th>\n",
       "      <td>2</td>\n",
       "      <td>3</td>\n",
       "      <td>14.0</td>\n",
       "      <td>1</td>\n",
       "    </tr>\n",
       "    <tr>\n",
       "      <th>2</th>\n",
       "      <td>1</td>\n",
       "      <td>2</td>\n",
       "      <td>12.5</td>\n",
       "      <td>2</td>\n",
       "    </tr>\n",
       "    <tr>\n",
       "      <th>3</th>\n",
       "      <td>3</td>\n",
       "      <td>4</td>\n",
       "      <td>17.3</td>\n",
       "      <td>1</td>\n",
       "    </tr>\n",
       "  </tbody>\n",
       "</table>\n",
       "</div>"
      ],
      "text/plain": [
       "   color  size  price  class\n",
       "0      0     1   10.5      0\n",
       "1      2     3   14.0      1\n",
       "2      1     2   12.5      2\n",
       "3      3     4   17.3      1"
      ]
     },
     "execution_count": 98,
     "metadata": {},
     "output_type": "execute_result"
    }
   ],
   "source": [
    "pd.get_dummies(df[['price', 'color', 'size']])\n",
    "df"
   ]
  }
 ],
 "metadata": {
  "kernelspec": {
   "display_name": "Python 2",
   "language": "python",
   "name": "python2"
  },
  "language_info": {
   "codemirror_mode": {
    "name": "ipython",
    "version": 2
   },
   "file_extension": ".py",
   "mimetype": "text/x-python",
   "name": "python",
   "nbconvert_exporter": "python",
   "pygments_lexer": "ipython2",
   "version": "2.7.12"
  }
 },
 "nbformat": 4,
 "nbformat_minor": 1
}
