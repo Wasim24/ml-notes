{
 "cells": [
  {
   "cell_type": "code",
   "execution_count": 8,
   "metadata": {
    "collapsed": false
   },
   "outputs": [],
   "source": [
    "import numpy as np\n",
    "class Perceptron(object):\n",
    "\tdef __init__(self, eta=0.01,n_iter=10):\n",
    "\t\tself.eta = eta\n",
    "\t\tself.n_iter=n_iter\n",
    "\t\t#self.errors_ = []\n",
    "\n",
    "\tdef fit(self, X, y):\n",
    "\t\tn_samples = X.shape[0]\n",
    "\t\tn_features = X.shape[1]\n",
    "\t\tself.w_ = np.zeros(1+n_features)\n",
    "\t\tself.errors_ = []\n",
    "\t\tfor _ in range(self.n_iter):\n",
    "\t\t\terrors = 0\n",
    "\t\t\tfor xi,target in zip(X,y):\n",
    "\t\t\t\tupdate = self.eta*(target - self.predict(xi))\n",
    "\t\t\t\tself.w_[1:] += update*xi\n",
    "\t\t\t\tself.w_[0] += update\n",
    "\t\t\t\terrors += int(update != 0.0)\n",
    "\t\t\tself.errors_.append(errors)\n",
    "\t\treturn self\n",
    "\n",
    "\tdef net_input(self, X):\n",
    "\t\treturn np.dot(X, self.w_[1:]) + self.w_[0]\n",
    "\n",
    "\tdef predict(self, X):\n",
    "\t\treturn np.where(self.net_input(X) >= 0.0, 1, -1) \n"
   ]
  },
  {
   "cell_type": "code",
   "execution_count": null,
   "metadata": {
    "collapsed": true
   },
   "outputs": [],
   "source": []
  }
 ],
 "metadata": {
  "kernelspec": {
   "display_name": "Python 2",
   "language": "python",
   "name": "python2"
  },
  "language_info": {
   "codemirror_mode": {
    "name": "ipython",
    "version": 2
   },
   "file_extension": ".py",
   "mimetype": "text/x-python",
   "name": "python",
   "nbconvert_exporter": "python",
   "pygments_lexer": "ipython2",
   "version": "2.7.12"
  }
 },
 "nbformat": 4,
 "nbformat_minor": 1
}
