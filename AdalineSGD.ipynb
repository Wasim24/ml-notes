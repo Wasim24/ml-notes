{
 "cells": [
  {
   "cell_type": "code",
   "execution_count": 7,
   "metadata": {
    "collapsed": false
   },
   "outputs": [],
   "source": [
    "from numpy.random import seed\n",
    "\n",
    "class AdalineSGD(object):\n",
    "    def __init__(self, eta=0.01, n_iter=10, shuffle=True, random_state=None):\n",
    "        self.eta=eta\n",
    "        self.n_iter=n_iter\n",
    "        self.shuffle=shuffle\n",
    "        if random_state:\n",
    "            seed(random_state)\n",
    "        self.w_initialized = False\n",
    "    \n",
    "    def fit(self, X, y):\n",
    "        self._initiate_weights(X)\n",
    "        self.cost_ = []\n",
    "        for _ in range(self.n_iter):\n",
    "            if self.shuffle:\n",
    "                X,y = self._shuffle(X,y)\n",
    "            cost = []\n",
    "            for (xi,target) in zip(X,y):\n",
    "                cost.append(self._update_weights(xi, target))\n",
    "            avg_cost = sum(cost)/len(y)\n",
    "            self.cost_.append(avg_cost)\n",
    "        return self\n",
    "\n",
    "    def _shuffle(self, X,y):\n",
    "        r = np.random.permutation(len(y))\n",
    "        return X[r], y[r]\n",
    "    \n",
    "    def _update_weights(self, xi, target):\n",
    "        output = self.net_input(xi, target)\n",
    "        error = target - output\n",
    "        self.w_[1:] += self.eta * xi.dot(error)\n",
    "        self.w_[0] += self.eta * error\n",
    "        cost = 0.5 * (error**2)\n",
    "        return cost\n",
    "    \n",
    "    def _initiate_weights(self, X):\n",
    "        if not self.w_initialized:\n",
    "            self.w_ = np.zeros(1 + X.shape[1])\n",
    "            self.w_initialized = True\n",
    "\n",
    "    def net_input(self, X, y):\n",
    "        return np.dot(X, self.w_[1:]) + self.w_[0:].sum()\n",
    "    \n",
    "    def activation(self, X, y):\n",
    "        return net_input(X,y)\n",
    "    \n",
    "    def predict(self, X):\n",
    "        return np.where(self.net_input(X,y) >= 0, 1, -1)\n",
    "    \n"
   ]
  },
  {
   "cell_type": "code",
   "execution_count": null,
   "metadata": {
    "collapsed": true
   },
   "outputs": [],
   "source": []
  }
 ],
 "metadata": {
  "kernelspec": {
   "display_name": "Python 2",
   "language": "python",
   "name": "python2"
  },
  "language_info": {
   "codemirror_mode": {
    "name": "ipython",
    "version": 2
   },
   "file_extension": ".py",
   "mimetype": "text/x-python",
   "name": "python",
   "nbconvert_exporter": "python",
   "pygments_lexer": "ipython2",
   "version": "2.7.12"
  }
 },
 "nbformat": 4,
 "nbformat_minor": 1
}
