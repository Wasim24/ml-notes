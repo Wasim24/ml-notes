{
 "cells": [
  {
   "cell_type": "markdown",
   "metadata": {},
   "source": [
    "# Organizing clusters as a hierarchical tree\n",
    "<html>\n",
    "<h3> An alternative approach to prototype-based clustering: hierarchical clustering. </h3>\n",
    "\n",
    "<h3> Advantage of hierarchical clustering algorithms</h3>\n",
    "<li> It allows us to plot dendrograms, which can help with the interpretation of the results by creating meaningful taxonomies.\n",
    "<li> we do not need to specify the number of clusters upfront.\n",
    "\n",
    "<h3> Two main approaches of hierarchical clustering </h3>\n",
    "<ul>\n",
    "<li> <b>Divisive:</b>\n",
    "    <ul>\n",
    "        <li>we start with one cluster that encompasses all our samples\n",
    "        <li>we iteratively split the cluster into smaller clusters\n",
    "        <li> Repeat step 2 until each cluster only contains one sample.\n",
    "    </ul>\n",
    "</li>\n",
    "\n",
    "<li> <b>Agglomerative:</b> It takes the opposite approach compared to divisive. \n",
    "<ol> <li>We start with each sample as an individual cluster\n",
    "<li> Merge the closest pairs of clusters until only one cluster remains.\n",
    "</ol>\n",
    "</ul>\n",
    "<html>\n",
    "\n",
    "<h3>Agglomerative clustering:</h3>\n",
    "The two standard algorithms for agglomerative hierarchical clustering are:\n",
    "<ul>\n",
    "<li><b>single linkage: </b> we compute the distances between the most similar members for each pair of clusters and merge the two clusters for which the distance between the most similar members is the smallest.\n",
    "<li><b>complete linkage</b>. The complete linkage approach is similar to single linkage but, instead of comparing the most similar members in each pair of clusters, we compare the most dissimilar members to perform the merge.\n",
    "</ul>\n",
    "\n",
    "<h3> Complete Linkage</h3>\n",
    "Let's focus on complete linkage in this section. This is an iterative procedure that can be summarized by the following steps:\n",
    "<ol>\n",
    "<li>Compute the distance matrix of all samples.\n",
    "<li>Represent each data point as a singleton cluster.\n",
    "<li>Merge the two closest clusters based on the distance of the most dissimilar (distant) members.\n",
    "<li>Update the similarity matrix.\n",
    "<li>Repeat steps 2 to 4 until one single cluster remains.\n",
    "</ol>\n",
    "\n",
    "<h3> Let's generate random data to try out complete linkage </h3>\n",
    "</html>"
   ]
  },
  {
   "cell_type": "code",
   "execution_count": 25,
   "metadata": {
    "collapsed": false
   },
   "outputs": [
    {
     "name": "stdout",
     "output_type": "stream",
     "text": [
      "Input:\n",
      "             X         Y         Z\n",
      "ID_0  6.964692  2.861393  2.268515\n",
      "ID_1  5.513148  7.194690  4.231065\n",
      "ID_2  9.807642  6.848297  4.809319\n",
      "ID_3  3.921175  3.431780  7.290497\n",
      "ID_4  4.385722  0.596779  3.980443\n",
      "\n",
      "Distance matrix: \n",
      "          ID_0      ID_1      ID_2      ID_3      ID_4\n",
      "ID_0  0.000000  4.973534  5.516653  5.899885  3.835396\n",
      "ID_1  4.973534  0.000000  4.347073  5.104311  6.698233\n",
      "ID_2  5.516653  4.347073  0.000000  7.244262  8.316594\n",
      "ID_3  5.899885  5.104311  7.244262  0.000000  4.382864\n",
      "ID_4  3.835396  6.698233  8.316594  4.382864  0.000000\n",
      "\n",
      "Linkage Matrix:\n",
      "           row label 1  row label 2  distance  no. of items in clust.\n",
      "cluster 1          0.0          4.0  3.835396                     2.0\n",
      "cluster 2          1.0          2.0  4.347073                     2.0\n",
      "cluster 3          3.0          5.0  5.899885                     3.0\n",
      "cluster 4          6.0          7.0  8.316594                     5.0\n"
     ]
    },
    {
     "data": {
      "image/png": "[encoded data removed]",
      "text/plain": [
       "<matplotlib.figure.Figure at 0x1091c1ad0>"
      ]
     },
     "metadata": {},
     "output_type": "display_data"
    }
   ],
   "source": [
    "import pandas as pd\n",
    "import numpy as np\n",
    "from scipy.cluster.hierarchy import linkage\n",
    "from scipy.spatial.distance import pdist, squareform\n",
    "from scipy.cluster.hierarchy import dendrogram\n",
    "import matplotlib.pyplot as plt\n",
    "\n",
    "# random data\n",
    "np.random.seed(123)\n",
    "variables = ['X', 'Y', 'Z']\n",
    "labels = ['ID_0','ID_1','ID_2','ID_3','ID_4']\n",
    "X = np.random.random_sample([5,3])*10\n",
    "df = pd.DataFrame(X, columns=variables, index=labels)\n",
    "print \"Input:\\n\", df\n",
    "\n",
    "# compute distance matrix using pdist\n",
    "row_dist = pd.DataFrame(squareform(\n",
    "        pdist(df, metric='euclidean')), \n",
    "                        columns=labels, index=labels)\n",
    "\n",
    "# squareform function is used to create a symmetrical matrix of the pair-wise distances as shown below\n",
    "print \"\\nDistance matrix: \\n\", row_dist\n",
    "\n",
    "# apply the complete linkage agglomeration to our clusters and compute linkage matrix\n",
    "# above row_clusters, doesnt use row_dist because linkage needs condensed matrix. \n",
    "# row_dist was only for us to get a feel of symmetrical distance matrix\n",
    "row_clusters = linkage(pdist(df, metric='euclidean'), method='complete')\n",
    "\n",
    "# OR another correct way to do linkage is as follows:\n",
    "# row_clusters = linkage(df.values, method='complete', metric='euclidean')\n",
    "\n",
    "# turn linkage matrix (row_cluster) into dataframe\n",
    "linkage_matrix = pd.DataFrame(row_clusters,\n",
    "             columns=['row label 1', 'row label 2', 'distance', 'no. of items in clust.'],\n",
    "             index=['cluster %d' %(i+1) for i in range(row_clusters.shape[0])])\n",
    "print \"\\nLinkage Matrix:\\n\", linkage_matrix\n",
    "\n",
    "# plot dendogram of linkage matrix\n",
    "row_dendr = dendrogram(row_clusters, labels=labels)\n",
    "plt.tight_layout()\n",
    "plt.ylabel('Euclidean distance')\n",
    "plt.title('We can see that the samples ID_0 and ID_4, followed by ID_1 and ID_2, are the most similar ones based on the Euclidean distance metric')\n",
    "plt.show()\n"
   ]
  },
  {
   "cell_type": "markdown",
   "metadata": {},
   "source": [
    "# Associate dendogram with heat map"
   ]
  },
  {
   "cell_type": "code",
   "execution_count": 24,
   "metadata": {
    "collapsed": false
   },
   "outputs": [
    {
     "data": {
      "image/png": "[encoded data removed]",
      "text/plain": [
       "<matplotlib.figure.Figure at 0x10ae23fd0>"
      ]
     },
     "metadata": {},
     "output_type": "display_data"
    }
   ],
   "source": [
    "# First, we create a new figure object\n",
    "# Define the x axis position, y axis position, width, and height of the dendrogram via the add_axes attribute.\n",
    "# Furthermore, we rotate the dendrogram 90 degrees counter-clockwise.\n",
    "fig = plt.figure(figsize=(8,8))\n",
    "axd = fig.add_axes([0.09,0.1,0.2,0.6])\n",
    "row_dendr = dendrogram(row_clusters, orientation='right')\n",
    "\n",
    "#print row_dendr['leaves'], row_dendr['leaves'][::-1]\n",
    "\n",
    "# reorder the data in our initial DataFrame according to the clustering labels \n",
    "# that can be accessed from the dendrogram object\n",
    "df_rowclust = df.ix[row_dendr['leaves'][::-1]]\n",
    "\n",
    "# construct the heat map from the reordered DataFrame and position it right next to the dendrogram\n",
    "axm = fig.add_axes([0.23,0.1,0.6,0.6])\n",
    "cax = axm.matshow(df_rowclust, interpolation='nearest', cmap='hot_r')\n",
    "\n",
    "# Remove axis bars on dendogram. Add colorbar and ticks to heat map.\n",
    "axd.set_xticks([])\n",
    "axd.set_yticks([])\n",
    "for i in axd.spines.values():\n",
    "    i.set_visible(False)\n",
    "fig.colorbar(cax)\n",
    "axm.set_xticklabels([''] + list(df_rowclust.columns))\n",
    "axm.set_yticklabels([''] + list(df_rowclust.index))\n",
    "plt.show()"
   ]
  },
  {
   "cell_type": "markdown",
   "metadata": {},
   "source": [
    "# Let's try scikit's agglomeration"
   ]
  },
  {
   "cell_type": "code",
   "execution_count": 30,
   "metadata": {
    "collapsed": false
   },
   "outputs": [
    {
     "name": "stdout",
     "output_type": "stream",
     "text": [
      "Cluster labels: [0 1 1 0 0]\n",
      "{'compute_full_tree': 'auto', 'n_clusters': 2, 'connectivity': None, 'affinity': 'euclidean', 'memory': Memory(cachedir=None), 'pooling_func': <function mean at 0x1059397d0>, 'linkage': 'complete'}\n",
      "Cluster labels: [0 0 0 0 0]\n"
     ]
    }
   ],
   "source": [
    "from sklearn.cluster import AgglomerativeClustering\n",
    "ac = AgglomerativeClustering(n_clusters=2, affinity='euclidean', linkage='complete')\n",
    "labels = ac.fit_predict(X)\n",
    "print('Cluster labels: %s' % labels)\n",
    "# print ac.get_params()\n",
    "# ac = AgglomerativeClustering(n_clusters=1, affinity='euclidean', linkage='complete')\n",
    "# labels = ac.fit_predict(X)\n",
    "# print('Cluster labels: %s' % labels)"
   ]
  },
  {
   "cell_type": "code",
   "execution_count": null,
   "metadata": {
    "collapsed": true
   },
   "outputs": [],
   "source": [
    "Q&A:\n",
    "    - Dendogram analysis!???\n",
    "    - How to tell #clusters formed looking at dendogram???\n",
    "    - Heat map association to dendogram???\n",
    "    - How to quantify AgglomerativeClustering? Also whts the point if we are giving num_clusters?? How to measure #clusters=2 vs 3 results??"
   ]
  }
 ],
 "metadata": {
  "kernelspec": {
   "display_name": "Python 2",
   "language": "python",
   "name": "python2"
  },
  "language_info": {
   "codemirror_mode": {
    "name": "ipython",
    "version": 2
   },
   "file_extension": ".py",
   "mimetype": "text/x-python",
   "name": "python",
   "nbconvert_exporter": "python",
   "pygments_lexer": "ipython2",
   "version": "2.7.12"
  }
 },
 "nbformat": 4,
 "nbformat_minor": 1
}
